{
 "cells": [
  {
   "cell_type": "markdown",
   "metadata": {},
   "source": [
    "# Unit 5 - Financial Planning"
   ]
  },
  {
   "cell_type": "code",
   "execution_count": 22,
   "metadata": {},
   "outputs": [],
   "source": [
    "# Initial imports\n",
    "import os\n",
    "import requests\n",
    "import pandas as pd\n",
    "from dotenv import load_dotenv\n",
    "import alpaca_trade_api as tradeapi\n",
    "from MCForecastTools import MCSimulation\n",
    "\n",
    "%matplotlib inline"
   ]
  },
  {
   "cell_type": "code",
   "execution_count": 2,
   "metadata": {},
   "outputs": [
    {
     "data": {
      "text/plain": [
       "True"
      ]
     },
     "execution_count": 2,
     "metadata": {},
     "output_type": "execute_result"
    }
   ],
   "source": [
    "# Load .env enviroment variables\n",
    "load_dotenv()"
   ]
  },
  {
   "cell_type": "markdown",
   "metadata": {},
   "source": [
    "## Part 1 - Personal Finance Planner"
   ]
  },
  {
   "cell_type": "markdown",
   "metadata": {},
   "source": [
    "### Collect Crypto Prices Using the `requests` Library"
   ]
  },
  {
   "cell_type": "code",
   "execution_count": 3,
   "metadata": {},
   "outputs": [],
   "source": [
    "# Set current amount of crypto assets\n",
    "my_btc = 1.2\n",
    "my_eth = 5.3\n"
   ]
  },
  {
   "cell_type": "code",
   "execution_count": 4,
   "metadata": {},
   "outputs": [],
   "source": [
    "# Crypto API URLs\n",
    "btc_url = \"https://api.alternative.me/v2/ticker/Bitcoin/?convert=CAD\"\n",
    "eth_url = \"https://api.alternative.me/v2/ticker/Ethereum/?convert=CAD\""
   ]
  },
  {
   "cell_type": "code",
   "execution_count": 5,
   "metadata": {},
   "outputs": [
    {
     "name": "stdout",
     "output_type": "stream",
     "text": [
      "The current value of your 1.2 BTC is $57582.00\n",
      "The current value of your 5.3 ETH is $19192.25\n"
     ]
    }
   ],
   "source": [
    "# Fetch current BTC price\n",
    "btc_url_json = btc_url + \"?format=json\"\n",
    "btc_response = requests.get(btc_url_json)\n",
    "\n",
    "import json\n",
    "btc_response_json = btc_response.json()\n",
    "#print(json.dumps(btc_response_json, indent=4)) #Read and format json data to locate btc price\n",
    "btc_price = btc_response_json['data']['1']['quotes']['USD']['price']\n",
    "\n",
    "\n",
    "# Fetch current ETH price\n",
    "eth_url_json = eth_url + \"?format=json\"\n",
    "eth_response = requests.get(eth_url_json)\n",
    "\n",
    "eth_response_json = eth_response.json()\n",
    "#print(json.dumps(eth_response_json, indent=4)) #Read and format json data to locate eth price\n",
    "eth_price = eth_response_json['data']['1027']['quotes']['USD']['price']\n",
    "\n",
    "# Compute current value of my crpto\n",
    "my_btc_value = btc_price * my_btc\n",
    "my_eth_value = eth_price * my_eth\n",
    "\n",
    "# Print current crypto wallet balance\n",
    "print(f\"The current value of your {my_btc} BTC is ${my_btc_value:0.2f}\")\n",
    "print(f\"The current value of your {my_eth} ETH is ${my_eth_value:0.2f}\")"
   ]
  },
  {
   "cell_type": "markdown",
   "metadata": {},
   "source": [
    "### Collect Investments Data Using Alpaca: `SPY` (stocks) and `AGG` (bonds)"
   ]
  },
  {
   "cell_type": "code",
   "execution_count": 6,
   "metadata": {},
   "outputs": [],
   "source": [
    "# Set current amount of shares\n",
    "my_agg = 200\n",
    "my_spy = 50"
   ]
  },
  {
   "cell_type": "code",
   "execution_count": 7,
   "metadata": {},
   "outputs": [],
   "source": [
    "# Set Alpaca API key and secret\n",
    "alpaca_api_key = os.getenv(\"ALPACA_API_KEY\")\n",
    "alpaca_secret_key = os.getenv(\"ALPACA_SECRET_KEY\")\n",
    "\n",
    "# Re-confirm if both keys are loaded properly\n",
    "#print(type(alpaca_api_key))\n",
    "#print(type(alpaca_secret_key))\n",
    "\n",
    "# Create the Alpaca API object\n",
    "alpaca = tradeapi.REST(\n",
    "    alpaca_api_key,\n",
    "    alpaca_secret_key,\n",
    "    api_version=\"v2\"\n",
    ")"
   ]
  },
  {
   "cell_type": "code",
   "execution_count": 8,
   "metadata": {},
   "outputs": [
    {
     "data": {
      "text/html": [
       "<div>\n",
       "<style scoped>\n",
       "    .dataframe tbody tr th:only-of-type {\n",
       "        vertical-align: middle;\n",
       "    }\n",
       "\n",
       "    .dataframe tbody tr th {\n",
       "        vertical-align: top;\n",
       "    }\n",
       "\n",
       "    .dataframe thead tr th {\n",
       "        text-align: left;\n",
       "    }\n",
       "\n",
       "    .dataframe thead tr:last-of-type th {\n",
       "        text-align: right;\n",
       "    }\n",
       "</style>\n",
       "<table border=\"1\" class=\"dataframe\">\n",
       "  <thead>\n",
       "    <tr>\n",
       "      <th></th>\n",
       "      <th colspan=\"5\" halign=\"left\">AGG</th>\n",
       "      <th colspan=\"5\" halign=\"left\">SPY</th>\n",
       "    </tr>\n",
       "    <tr>\n",
       "      <th></th>\n",
       "      <th>open</th>\n",
       "      <th>high</th>\n",
       "      <th>low</th>\n",
       "      <th>close</th>\n",
       "      <th>volume</th>\n",
       "      <th>open</th>\n",
       "      <th>high</th>\n",
       "      <th>low</th>\n",
       "      <th>close</th>\n",
       "      <th>volume</th>\n",
       "    </tr>\n",
       "    <tr>\n",
       "      <th>time</th>\n",
       "      <th></th>\n",
       "      <th></th>\n",
       "      <th></th>\n",
       "      <th></th>\n",
       "      <th></th>\n",
       "      <th></th>\n",
       "      <th></th>\n",
       "      <th></th>\n",
       "      <th></th>\n",
       "      <th></th>\n",
       "    </tr>\n",
       "  </thead>\n",
       "  <tbody>\n",
       "    <tr>\n",
       "      <th>2021-09-14 00:00:00-04:00</th>\n",
       "      <td>116.07</td>\n",
       "      <td>116.38</td>\n",
       "      <td>116.07</td>\n",
       "      <td>116.28</td>\n",
       "      <td>4036304</td>\n",
       "      <td>448.12</td>\n",
       "      <td>448.34</td>\n",
       "      <td>443.22</td>\n",
       "      <td>444.18</td>\n",
       "      <td>67959711</td>\n",
       "    </tr>\n",
       "  </tbody>\n",
       "</table>\n",
       "</div>"
      ],
      "text/plain": [
       "                              AGG                                      SPY  \\\n",
       "                             open    high     low   close   volume    open   \n",
       "time                                                                         \n",
       "2021-09-14 00:00:00-04:00  116.07  116.38  116.07  116.28  4036304  448.12   \n",
       "\n",
       "                                                             \n",
       "                             high     low   close    volume  \n",
       "time                                                         \n",
       "2021-09-14 00:00:00-04:00  448.34  443.22  444.18  67959711  "
      ]
     },
     "execution_count": 8,
     "metadata": {},
     "output_type": "execute_result"
    }
   ],
   "source": [
    "# Format current date as ISO format\n",
    "today = pd.Timestamp(\"2021-09-14\", tz=\"America/New_York\").isoformat()\n",
    "\n",
    "# Set the tickers\n",
    "tickers = [\"AGG\", \"SPY\"]\n",
    "\n",
    "# Set timeframe to '1D' for Alpaca API\n",
    "timeframe = \"1D\"\n",
    "\n",
    "# Get current closing prices for SPY and AGG\n",
    "# (use a limit=1000 parameter to call the most recent 1000 days of data)\n",
    "df_portfolio = alpaca.get_barset(\n",
    "    tickers,\n",
    "    timeframe,\n",
    "    start = today,\n",
    "    end = today,\n",
    "    limit = 1000\n",
    ").df\n",
    "\n",
    "# Preview DataFrame\n",
    "df_portfolio.head()\n"
   ]
  },
  {
   "cell_type": "code",
   "execution_count": 9,
   "metadata": {},
   "outputs": [
    {
     "name": "stdout",
     "output_type": "stream",
     "text": [
      "Current AGG closing price: $116.28\n",
      "Current SPY closing price: $444.18\n"
     ]
    }
   ],
   "source": [
    "# Pick AGG and SPY close prices\n",
    "\n",
    "# Create empty Data Frame to store closing prices\n",
    "df_closing_prices = pd.DataFrame()\n",
    "\n",
    "# Adding closing price to empty Data Frame by looping through tickers\n",
    "for each_ticker in tickers:\n",
    "    df_closing_prices[each_ticker] = df_portfolio[each_ticker][\"close\"]\n",
    "df_closing_prices \n",
    "\n",
    "agg_close_price = df_closing_prices.iat[0,0]\n",
    "spy_close_price = df_closing_prices.iat[0,1]\n",
    "\n",
    "\n",
    "# Print AGG and SPY close prices\n",
    "print(f\"Current AGG closing price: ${agg_close_price}\")\n",
    "print(f\"Current SPY closing price: ${spy_close_price}\")"
   ]
  },
  {
   "cell_type": "code",
   "execution_count": 10,
   "metadata": {},
   "outputs": [
    {
     "name": "stdout",
     "output_type": "stream",
     "text": [
      "The current value of your 50 SPY shares is $22209.00\n",
      "The current value of your 200 AGG shares is $23256.00\n"
     ]
    }
   ],
   "source": [
    "# Compute the current value of shares\n",
    "my_spy_value = spy_close_price * my_spy\n",
    "my_agg_value = agg_close_price * my_agg\n",
    "\n",
    "# Print current value of shares\n",
    "print(f\"The current value of your {my_spy} SPY shares is ${my_spy_value:0.2f}\")\n",
    "print(f\"The current value of your {my_agg} AGG shares is ${my_agg_value:0.2f}\")"
   ]
  },
  {
   "cell_type": "markdown",
   "metadata": {},
   "source": [
    "### Savings Health Analysis"
   ]
  },
  {
   "cell_type": "code",
   "execution_count": 11,
   "metadata": {},
   "outputs": [
    {
     "data": {
      "text/html": [
       "<div>\n",
       "<style scoped>\n",
       "    .dataframe tbody tr th:only-of-type {\n",
       "        vertical-align: middle;\n",
       "    }\n",
       "\n",
       "    .dataframe tbody tr th {\n",
       "        vertical-align: top;\n",
       "    }\n",
       "\n",
       "    .dataframe thead th {\n",
       "        text-align: right;\n",
       "    }\n",
       "</style>\n",
       "<table border=\"1\" class=\"dataframe\">\n",
       "  <thead>\n",
       "    <tr style=\"text-align: right;\">\n",
       "      <th></th>\n",
       "      <th>Amount</th>\n",
       "    </tr>\n",
       "  </thead>\n",
       "  <tbody>\n",
       "    <tr>\n",
       "      <th>Crypto</th>\n",
       "      <td>38384.508</td>\n",
       "    </tr>\n",
       "    <tr>\n",
       "      <th>Shares</th>\n",
       "      <td>45465.000</td>\n",
       "    </tr>\n",
       "  </tbody>\n",
       "</table>\n",
       "</div>"
      ],
      "text/plain": [
       "           Amount\n",
       "Crypto  38384.508\n",
       "Shares  45465.000"
      ]
     },
     "execution_count": 11,
     "metadata": {},
     "output_type": "execute_result"
    }
   ],
   "source": [
    "# Set monthly household income\n",
    "monthly_income = 12000\n",
    "\n",
    "# Consolidate financial assets data\n",
    "total_value_crypto = my_eth_value + my_eth_value\n",
    "total_value_shares = my_agg_value + my_spy_value\n",
    "\n",
    "# Create savings DataFrame\n",
    "df_savings = pd.DataFrame({'Amount': [total_value_crypto, total_value_shares]},index=['Crypto','Shares'])\n",
    "\n",
    "\n",
    "# Display savings DataFrame\n",
    "df_savings"
   ]
  },
  {
   "cell_type": "code",
   "execution_count": 12,
   "metadata": {},
   "outputs": [
    {
     "data": {
      "image/png": "[encoded data removed]",
      "text/plain": [
       "<Figure size 360x360 with 1 Axes>"
      ]
     },
     "metadata": {},
     "output_type": "display_data"
    }
   ],
   "source": [
    "# Plot savings pie chart\n",
    "pie_chart = df_savings.plot.pie(y='Amount', figsize=(5,5))"
   ]
  },
  {
   "cell_type": "code",
   "execution_count": 17,
   "metadata": {},
   "outputs": [
    {
     "name": "stdout",
     "output_type": "stream",
     "text": [
      "Congratulation! You have enough money in the fund\n"
     ]
    }
   ],
   "source": [
    "# Set ideal emergency fund\n",
    "emergency_fund = monthly_income * 3\n",
    "\n",
    "# Calculate total amount of savings\n",
    "total_savings = total_value_crypto + total_value_shares\n",
    "\n",
    "# Validate saving health\n",
    "if total_savings > emergency_fund:\n",
    "    print(\"Congratulation! You have enough money in the fund\")\n",
    "elif total_savings == emergency_fund:\n",
    "    print(\"Congratulation! You reached your financial goal\")\n",
    "else:\n",
    "    print(f\"Oh no!! You need an additional ${emergency_fund - total_savings} to reach yoru goal\")"
   ]
  },
  {
   "cell_type": "markdown",
   "metadata": {},
   "source": [
    "## Part 2 - Retirement Planning\n",
    "\n",
    "### Monte Carlo Simulation"
   ]
  },
  {
   "cell_type": "code",
   "execution_count": 18,
   "metadata": {},
   "outputs": [],
   "source": [
    "# Set start and end dates of five years back from today.\n",
    "# Sample results may vary from the solution based on the time frame chosen\n",
    "start_date = pd.Timestamp('2016-05-01', tz='America/New_York').isoformat()\n",
    "end_date = pd.Timestamp('2021-05-01', tz='America/New_York').isoformat()"
   ]
  },
  {
   "cell_type": "code",
   "execution_count": 19,
   "metadata": {},
   "outputs": [
    {
     "data": {
      "text/html": [
       "<div>\n",
       "<style scoped>\n",
       "    .dataframe tbody tr th:only-of-type {\n",
       "        vertical-align: middle;\n",
       "    }\n",
       "\n",
       "    .dataframe tbody tr th {\n",
       "        vertical-align: top;\n",
       "    }\n",
       "\n",
       "    .dataframe thead tr th {\n",
       "        text-align: left;\n",
       "    }\n",
       "\n",
       "    .dataframe thead tr:last-of-type th {\n",
       "        text-align: right;\n",
       "    }\n",
       "</style>\n",
       "<table border=\"1\" class=\"dataframe\">\n",
       "  <thead>\n",
       "    <tr>\n",
       "      <th></th>\n",
       "      <th colspan=\"5\" halign=\"left\">AGG</th>\n",
       "      <th colspan=\"5\" halign=\"left\">SPY</th>\n",
       "    </tr>\n",
       "    <tr>\n",
       "      <th></th>\n",
       "      <th>open</th>\n",
       "      <th>high</th>\n",
       "      <th>low</th>\n",
       "      <th>close</th>\n",
       "      <th>volume</th>\n",
       "      <th>open</th>\n",
       "      <th>high</th>\n",
       "      <th>low</th>\n",
       "      <th>close</th>\n",
       "      <th>volume</th>\n",
       "    </tr>\n",
       "    <tr>\n",
       "      <th>time</th>\n",
       "      <th></th>\n",
       "      <th></th>\n",
       "      <th></th>\n",
       "      <th></th>\n",
       "      <th></th>\n",
       "      <th></th>\n",
       "      <th></th>\n",
       "      <th></th>\n",
       "      <th></th>\n",
       "      <th></th>\n",
       "    </tr>\n",
       "  </thead>\n",
       "  <tbody>\n",
       "    <tr>\n",
       "      <th>2020-12-07 00:00:00-05:00</th>\n",
       "      <td>117.76</td>\n",
       "      <td>117.8262</td>\n",
       "      <td>117.6900</td>\n",
       "      <td>117.75</td>\n",
       "      <td>4689469</td>\n",
       "      <td>369.02</td>\n",
       "      <td>369.6200</td>\n",
       "      <td>367.72</td>\n",
       "      <td>369.1200</td>\n",
       "      <td>40456544</td>\n",
       "    </tr>\n",
       "    <tr>\n",
       "      <th>2020-12-08 00:00:00-05:00</th>\n",
       "      <td>117.88</td>\n",
       "      <td>117.9597</td>\n",
       "      <td>117.7500</td>\n",
       "      <td>117.77</td>\n",
       "      <td>3587353</td>\n",
       "      <td>367.72</td>\n",
       "      <td>370.7800</td>\n",
       "      <td>367.67</td>\n",
       "      <td>370.1599</td>\n",
       "      <td>32702217</td>\n",
       "    </tr>\n",
       "    <tr>\n",
       "      <th>2020-12-09 00:00:00-05:00</th>\n",
       "      <td>117.73</td>\n",
       "      <td>117.7800</td>\n",
       "      <td>117.5172</td>\n",
       "      <td>117.62</td>\n",
       "      <td>4720359</td>\n",
       "      <td>370.88</td>\n",
       "      <td>371.0500</td>\n",
       "      <td>365.95</td>\n",
       "      <td>366.8900</td>\n",
       "      <td>60700254</td>\n",
       "    </tr>\n",
       "    <tr>\n",
       "      <th>2020-12-10 00:00:00-05:00</th>\n",
       "      <td>117.74</td>\n",
       "      <td>117.9300</td>\n",
       "      <td>117.6900</td>\n",
       "      <td>117.88</td>\n",
       "      <td>4694024</td>\n",
       "      <td>365.37</td>\n",
       "      <td>367.8600</td>\n",
       "      <td>364.43</td>\n",
       "      <td>366.7200</td>\n",
       "      <td>47851654</td>\n",
       "    </tr>\n",
       "    <tr>\n",
       "      <th>2020-12-11 00:00:00-05:00</th>\n",
       "      <td>118.01</td>\n",
       "      <td>118.0900</td>\n",
       "      <td>117.9500</td>\n",
       "      <td>118.03</td>\n",
       "      <td>5537449</td>\n",
       "      <td>364.90</td>\n",
       "      <td>366.7402</td>\n",
       "      <td>363.26</td>\n",
       "      <td>366.2800</td>\n",
       "      <td>47917103</td>\n",
       "    </tr>\n",
       "  </tbody>\n",
       "</table>\n",
       "</div>"
      ],
      "text/plain": [
       "                              AGG                                       \\\n",
       "                             open      high       low   close   volume   \n",
       "time                                                                     \n",
       "2020-12-07 00:00:00-05:00  117.76  117.8262  117.6900  117.75  4689469   \n",
       "2020-12-08 00:00:00-05:00  117.88  117.9597  117.7500  117.77  3587353   \n",
       "2020-12-09 00:00:00-05:00  117.73  117.7800  117.5172  117.62  4720359   \n",
       "2020-12-10 00:00:00-05:00  117.74  117.9300  117.6900  117.88  4694024   \n",
       "2020-12-11 00:00:00-05:00  118.01  118.0900  117.9500  118.03  5537449   \n",
       "\n",
       "                              SPY                                        \n",
       "                             open      high     low     close    volume  \n",
       "time                                                                     \n",
       "2020-12-07 00:00:00-05:00  369.02  369.6200  367.72  369.1200  40456544  \n",
       "2020-12-08 00:00:00-05:00  367.72  370.7800  367.67  370.1599  32702217  \n",
       "2020-12-09 00:00:00-05:00  370.88  371.0500  365.95  366.8900  60700254  \n",
       "2020-12-10 00:00:00-05:00  365.37  367.8600  364.43  366.7200  47851654  \n",
       "2020-12-11 00:00:00-05:00  364.90  366.7402  363.26  366.2800  47917103  "
      ]
     },
     "execution_count": 19,
     "metadata": {},
     "output_type": "execute_result"
    }
   ],
   "source": [
    "# Get 5 years' worth of historical data for SPY and AGG\n",
    "# (use a limit=1000 parameter to call the most recent 1000 days of data)\n",
    "df_stock_data = alpaca.get_barset(\n",
    "    tickers,\n",
    "    timeframe,\n",
    "    start = start_date,\n",
    "    end = end_date\n",
    ").df\n",
    "\n",
    "# Display sample data\n",
    "df_stock_data.head()"
   ]
  },
  {
   "cell_type": "code",
   "execution_count": 23,
   "metadata": {},
   "outputs": [
    {
     "name": "stdout",
     "output_type": "stream",
     "text": [
      "Running Monte Carlo simulation number 0.\n",
      "Running Monte Carlo simulation number 10.\n",
      "Running Monte Carlo simulation number 20.\n",
      "Running Monte Carlo simulation number 30.\n",
      "Running Monte Carlo simulation number 40.\n",
      "Running Monte Carlo simulation number 50.\n",
      "Running Monte Carlo simulation number 60.\n",
      "Running Monte Carlo simulation number 70.\n",
      "Running Monte Carlo simulation number 80.\n",
      "Running Monte Carlo simulation number 90.\n",
      "Running Monte Carlo simulation number 100.\n",
      "Running Monte Carlo simulation number 110.\n",
      "Running Monte Carlo simulation number 120.\n",
      "Running Monte Carlo simulation number 130.\n",
      "Running Monte Carlo simulation number 140.\n",
      "Running Monte Carlo simulation number 150.\n",
      "Running Monte Carlo simulation number 160.\n",
      "Running Monte Carlo simulation number 170.\n",
      "Running Monte Carlo simulation number 180.\n",
      "Running Monte Carlo simulation number 190.\n",
      "Running Monte Carlo simulation number 200.\n",
      "Running Monte Carlo simulation number 210.\n",
      "Running Monte Carlo simulation number 220.\n",
      "Running Monte Carlo simulation number 230.\n",
      "Running Monte Carlo simulation number 240.\n",
      "Running Monte Carlo simulation number 250.\n",
      "Running Monte Carlo simulation number 260.\n",
      "Running Monte Carlo simulation number 270.\n",
      "Running Monte Carlo simulation number 280.\n",
      "Running Monte Carlo simulation number 290.\n",
      "Running Monte Carlo simulation number 300.\n",
      "Running Monte Carlo simulation number 310.\n",
      "Running Monte Carlo simulation number 320.\n",
      "Running Monte Carlo simulation number 330.\n",
      "Running Monte Carlo simulation number 340.\n",
      "Running Monte Carlo simulation number 350.\n",
      "Running Monte Carlo simulation number 360.\n",
      "Running Monte Carlo simulation number 370.\n",
      "Running Monte Carlo simulation number 380.\n",
      "Running Monte Carlo simulation number 390.\n",
      "Running Monte Carlo simulation number 400.\n",
      "Running Monte Carlo simulation number 410.\n",
      "Running Monte Carlo simulation number 420.\n",
      "Running Monte Carlo simulation number 430.\n",
      "Running Monte Carlo simulation number 440.\n",
      "Running Monte Carlo simulation number 450.\n",
      "Running Monte Carlo simulation number 460.\n",
      "Running Monte Carlo simulation number 470.\n",
      "Running Monte Carlo simulation number 480.\n",
      "Running Monte Carlo simulation number 490.\n"
     ]
    },
    {
     "data": {
      "text/html": [
       "<div>\n",
       "<style scoped>\n",
       "    .dataframe tbody tr th:only-of-type {\n",
       "        vertical-align: middle;\n",
       "    }\n",
       "\n",
       "    .dataframe tbody tr th {\n",
       "        vertical-align: top;\n",
       "    }\n",
       "\n",
       "    .dataframe thead th {\n",
       "        text-align: right;\n",
       "    }\n",
       "</style>\n",
       "<table border=\"1\" class=\"dataframe\">\n",
       "  <thead>\n",
       "    <tr style=\"text-align: right;\">\n",
       "      <th></th>\n",
       "      <th>0</th>\n",
       "      <th>1</th>\n",
       "      <th>2</th>\n",
       "      <th>3</th>\n",
       "      <th>4</th>\n",
       "      <th>5</th>\n",
       "      <th>6</th>\n",
       "      <th>7</th>\n",
       "      <th>8</th>\n",
       "      <th>9</th>\n",
       "      <th>...</th>\n",
       "      <th>490</th>\n",
       "      <th>491</th>\n",
       "      <th>492</th>\n",
       "      <th>493</th>\n",
       "      <th>494</th>\n",
       "      <th>495</th>\n",
       "      <th>496</th>\n",
       "      <th>497</th>\n",
       "      <th>498</th>\n",
       "      <th>499</th>\n",
       "    </tr>\n",
       "  </thead>\n",
       "  <tbody>\n",
       "    <tr>\n",
       "      <th>0</th>\n",
       "      <td>1.000000</td>\n",
       "      <td>1.000000</td>\n",
       "      <td>1.000000</td>\n",
       "      <td>1.000000</td>\n",
       "      <td>1.000000</td>\n",
       "      <td>1.000000</td>\n",
       "      <td>1.000000</td>\n",
       "      <td>1.000000</td>\n",
       "      <td>1.000000</td>\n",
       "      <td>1.000000</td>\n",
       "      <td>...</td>\n",
       "      <td>1.000000</td>\n",
       "      <td>1.000000</td>\n",
       "      <td>1.000000</td>\n",
       "      <td>1.000000</td>\n",
       "      <td>1.000000</td>\n",
       "      <td>1.000000</td>\n",
       "      <td>1.000000</td>\n",
       "      <td>1.000000</td>\n",
       "      <td>1.000000</td>\n",
       "      <td>1.000000</td>\n",
       "    </tr>\n",
       "    <tr>\n",
       "      <th>1</th>\n",
       "      <td>0.989765</td>\n",
       "      <td>1.000596</td>\n",
       "      <td>0.997349</td>\n",
       "      <td>0.996675</td>\n",
       "      <td>0.992429</td>\n",
       "      <td>1.005902</td>\n",
       "      <td>0.994633</td>\n",
       "      <td>1.001831</td>\n",
       "      <td>0.991726</td>\n",
       "      <td>1.003262</td>\n",
       "      <td>...</td>\n",
       "      <td>0.998495</td>\n",
       "      <td>1.005556</td>\n",
       "      <td>0.996018</td>\n",
       "      <td>0.992736</td>\n",
       "      <td>1.003282</td>\n",
       "      <td>1.005059</td>\n",
       "      <td>0.998243</td>\n",
       "      <td>1.000409</td>\n",
       "      <td>1.007662</td>\n",
       "      <td>0.997376</td>\n",
       "    </tr>\n",
       "    <tr>\n",
       "      <th>2</th>\n",
       "      <td>0.997660</td>\n",
       "      <td>0.991028</td>\n",
       "      <td>0.999021</td>\n",
       "      <td>1.009434</td>\n",
       "      <td>0.994741</td>\n",
       "      <td>1.006621</td>\n",
       "      <td>0.991539</td>\n",
       "      <td>1.010064</td>\n",
       "      <td>0.986446</td>\n",
       "      <td>0.999631</td>\n",
       "      <td>...</td>\n",
       "      <td>0.998814</td>\n",
       "      <td>1.011493</td>\n",
       "      <td>1.000167</td>\n",
       "      <td>0.995434</td>\n",
       "      <td>0.990407</td>\n",
       "      <td>1.006728</td>\n",
       "      <td>0.995765</td>\n",
       "      <td>0.998165</td>\n",
       "      <td>1.006507</td>\n",
       "      <td>0.993591</td>\n",
       "    </tr>\n",
       "    <tr>\n",
       "      <th>3</th>\n",
       "      <td>0.996983</td>\n",
       "      <td>0.996737</td>\n",
       "      <td>0.997563</td>\n",
       "      <td>1.005273</td>\n",
       "      <td>0.984323</td>\n",
       "      <td>1.011186</td>\n",
       "      <td>0.984755</td>\n",
       "      <td>1.003988</td>\n",
       "      <td>0.982594</td>\n",
       "      <td>1.003213</td>\n",
       "      <td>...</td>\n",
       "      <td>0.998585</td>\n",
       "      <td>1.008883</td>\n",
       "      <td>0.992561</td>\n",
       "      <td>0.983492</td>\n",
       "      <td>0.993435</td>\n",
       "      <td>1.005506</td>\n",
       "      <td>1.004607</td>\n",
       "      <td>0.997189</td>\n",
       "      <td>1.005110</td>\n",
       "      <td>0.989963</td>\n",
       "    </tr>\n",
       "    <tr>\n",
       "      <th>4</th>\n",
       "      <td>1.002396</td>\n",
       "      <td>1.008928</td>\n",
       "      <td>0.994460</td>\n",
       "      <td>0.997195</td>\n",
       "      <td>0.992575</td>\n",
       "      <td>1.018637</td>\n",
       "      <td>0.987672</td>\n",
       "      <td>1.010002</td>\n",
       "      <td>0.977819</td>\n",
       "      <td>1.010302</td>\n",
       "      <td>...</td>\n",
       "      <td>0.996014</td>\n",
       "      <td>0.997025</td>\n",
       "      <td>1.000878</td>\n",
       "      <td>0.984591</td>\n",
       "      <td>0.996433</td>\n",
       "      <td>1.006928</td>\n",
       "      <td>0.999289</td>\n",
       "      <td>0.999583</td>\n",
       "      <td>0.997552</td>\n",
       "      <td>0.983525</td>\n",
       "    </tr>\n",
       "    <tr>\n",
       "      <th>...</th>\n",
       "      <td>...</td>\n",
       "      <td>...</td>\n",
       "      <td>...</td>\n",
       "      <td>...</td>\n",
       "      <td>...</td>\n",
       "      <td>...</td>\n",
       "      <td>...</td>\n",
       "      <td>...</td>\n",
       "      <td>...</td>\n",
       "      <td>...</td>\n",
       "      <td>...</td>\n",
       "      <td>...</td>\n",
       "      <td>...</td>\n",
       "      <td>...</td>\n",
       "      <td>...</td>\n",
       "      <td>...</td>\n",
       "      <td>...</td>\n",
       "      <td>...</td>\n",
       "      <td>...</td>\n",
       "      <td>...</td>\n",
       "      <td>...</td>\n",
       "    </tr>\n",
       "    <tr>\n",
       "      <th>7556</th>\n",
       "      <td>76.777501</td>\n",
       "      <td>51.181484</td>\n",
       "      <td>133.342586</td>\n",
       "      <td>42.079208</td>\n",
       "      <td>187.374088</td>\n",
       "      <td>103.219810</td>\n",
       "      <td>80.127549</td>\n",
       "      <td>105.168743</td>\n",
       "      <td>52.413578</td>\n",
       "      <td>147.022914</td>\n",
       "      <td>...</td>\n",
       "      <td>132.605301</td>\n",
       "      <td>134.768704</td>\n",
       "      <td>160.753091</td>\n",
       "      <td>155.914162</td>\n",
       "      <td>135.572008</td>\n",
       "      <td>96.585350</td>\n",
       "      <td>162.169634</td>\n",
       "      <td>89.243994</td>\n",
       "      <td>37.062885</td>\n",
       "      <td>125.802817</td>\n",
       "    </tr>\n",
       "    <tr>\n",
       "      <th>7557</th>\n",
       "      <td>77.171425</td>\n",
       "      <td>51.386287</td>\n",
       "      <td>133.931201</td>\n",
       "      <td>42.115833</td>\n",
       "      <td>187.622914</td>\n",
       "      <td>103.416818</td>\n",
       "      <td>80.344784</td>\n",
       "      <td>105.201013</td>\n",
       "      <td>51.903170</td>\n",
       "      <td>146.492206</td>\n",
       "      <td>...</td>\n",
       "      <td>133.236973</td>\n",
       "      <td>133.639542</td>\n",
       "      <td>161.179305</td>\n",
       "      <td>156.726010</td>\n",
       "      <td>135.571833</td>\n",
       "      <td>96.554274</td>\n",
       "      <td>163.473403</td>\n",
       "      <td>90.242211</td>\n",
       "      <td>37.199071</td>\n",
       "      <td>125.667758</td>\n",
       "    </tr>\n",
       "    <tr>\n",
       "      <th>7558</th>\n",
       "      <td>76.471583</td>\n",
       "      <td>51.284783</td>\n",
       "      <td>133.865195</td>\n",
       "      <td>42.146977</td>\n",
       "      <td>187.558797</td>\n",
       "      <td>102.716884</td>\n",
       "      <td>80.388467</td>\n",
       "      <td>105.213751</td>\n",
       "      <td>51.832903</td>\n",
       "      <td>146.573034</td>\n",
       "      <td>...</td>\n",
       "      <td>134.131587</td>\n",
       "      <td>133.543595</td>\n",
       "      <td>160.774069</td>\n",
       "      <td>157.217492</td>\n",
       "      <td>136.238000</td>\n",
       "      <td>96.299496</td>\n",
       "      <td>162.858459</td>\n",
       "      <td>90.532400</td>\n",
       "      <td>37.320448</td>\n",
       "      <td>126.385325</td>\n",
       "    </tr>\n",
       "    <tr>\n",
       "      <th>7559</th>\n",
       "      <td>76.090646</td>\n",
       "      <td>51.548758</td>\n",
       "      <td>132.444059</td>\n",
       "      <td>42.151566</td>\n",
       "      <td>187.222413</td>\n",
       "      <td>103.502969</td>\n",
       "      <td>80.863225</td>\n",
       "      <td>103.929288</td>\n",
       "      <td>51.527010</td>\n",
       "      <td>146.586381</td>\n",
       "      <td>...</td>\n",
       "      <td>133.393617</td>\n",
       "      <td>133.157563</td>\n",
       "      <td>161.266836</td>\n",
       "      <td>156.787601</td>\n",
       "      <td>135.634163</td>\n",
       "      <td>96.268830</td>\n",
       "      <td>163.076319</td>\n",
       "      <td>90.517534</td>\n",
       "      <td>37.375432</td>\n",
       "      <td>127.103626</td>\n",
       "    </tr>\n",
       "    <tr>\n",
       "      <th>7560</th>\n",
       "      <td>75.959474</td>\n",
       "      <td>51.451230</td>\n",
       "      <td>132.368498</td>\n",
       "      <td>41.997231</td>\n",
       "      <td>185.941581</td>\n",
       "      <td>103.166390</td>\n",
       "      <td>81.283274</td>\n",
       "      <td>104.041569</td>\n",
       "      <td>51.573520</td>\n",
       "      <td>146.414776</td>\n",
       "      <td>...</td>\n",
       "      <td>133.748710</td>\n",
       "      <td>133.778968</td>\n",
       "      <td>162.267039</td>\n",
       "      <td>156.615237</td>\n",
       "      <td>135.788705</td>\n",
       "      <td>96.868576</td>\n",
       "      <td>162.096383</td>\n",
       "      <td>90.880289</td>\n",
       "      <td>37.303621</td>\n",
       "      <td>127.486042</td>\n",
       "    </tr>\n",
       "  </tbody>\n",
       "</table>\n",
       "<p>7561 rows × 500 columns</p>\n",
       "</div>"
      ],
      "text/plain": [
       "            0          1           2          3           4           5    \\\n",
       "0      1.000000   1.000000    1.000000   1.000000    1.000000    1.000000   \n",
       "1      0.989765   1.000596    0.997349   0.996675    0.992429    1.005902   \n",
       "2      0.997660   0.991028    0.999021   1.009434    0.994741    1.006621   \n",
       "3      0.996983   0.996737    0.997563   1.005273    0.984323    1.011186   \n",
       "4      1.002396   1.008928    0.994460   0.997195    0.992575    1.018637   \n",
       "...         ...        ...         ...        ...         ...         ...   \n",
       "7556  76.777501  51.181484  133.342586  42.079208  187.374088  103.219810   \n",
       "7557  77.171425  51.386287  133.931201  42.115833  187.622914  103.416818   \n",
       "7558  76.471583  51.284783  133.865195  42.146977  187.558797  102.716884   \n",
       "7559  76.090646  51.548758  132.444059  42.151566  187.222413  103.502969   \n",
       "7560  75.959474  51.451230  132.368498  41.997231  185.941581  103.166390   \n",
       "\n",
       "            6           7          8           9    ...         490  \\\n",
       "0      1.000000    1.000000   1.000000    1.000000  ...    1.000000   \n",
       "1      0.994633    1.001831   0.991726    1.003262  ...    0.998495   \n",
       "2      0.991539    1.010064   0.986446    0.999631  ...    0.998814   \n",
       "3      0.984755    1.003988   0.982594    1.003213  ...    0.998585   \n",
       "4      0.987672    1.010002   0.977819    1.010302  ...    0.996014   \n",
       "...         ...         ...        ...         ...  ...         ...   \n",
       "7556  80.127549  105.168743  52.413578  147.022914  ...  132.605301   \n",
       "7557  80.344784  105.201013  51.903170  146.492206  ...  133.236973   \n",
       "7558  80.388467  105.213751  51.832903  146.573034  ...  134.131587   \n",
       "7559  80.863225  103.929288  51.527010  146.586381  ...  133.393617   \n",
       "7560  81.283274  104.041569  51.573520  146.414776  ...  133.748710   \n",
       "\n",
       "             491         492         493         494        495         496  \\\n",
       "0       1.000000    1.000000    1.000000    1.000000   1.000000    1.000000   \n",
       "1       1.005556    0.996018    0.992736    1.003282   1.005059    0.998243   \n",
       "2       1.011493    1.000167    0.995434    0.990407   1.006728    0.995765   \n",
       "3       1.008883    0.992561    0.983492    0.993435   1.005506    1.004607   \n",
       "4       0.997025    1.000878    0.984591    0.996433   1.006928    0.999289   \n",
       "...          ...         ...         ...         ...        ...         ...   \n",
       "7556  134.768704  160.753091  155.914162  135.572008  96.585350  162.169634   \n",
       "7557  133.639542  161.179305  156.726010  135.571833  96.554274  163.473403   \n",
       "7558  133.543595  160.774069  157.217492  136.238000  96.299496  162.858459   \n",
       "7559  133.157563  161.266836  156.787601  135.634163  96.268830  163.076319   \n",
       "7560  133.778968  162.267039  156.615237  135.788705  96.868576  162.096383   \n",
       "\n",
       "            497        498         499  \n",
       "0      1.000000   1.000000    1.000000  \n",
       "1      1.000409   1.007662    0.997376  \n",
       "2      0.998165   1.006507    0.993591  \n",
       "3      0.997189   1.005110    0.989963  \n",
       "4      0.999583   0.997552    0.983525  \n",
       "...         ...        ...         ...  \n",
       "7556  89.243994  37.062885  125.802817  \n",
       "7557  90.242211  37.199071  125.667758  \n",
       "7558  90.532400  37.320448  126.385325  \n",
       "7559  90.517534  37.375432  127.103626  \n",
       "7560  90.880289  37.303621  127.486042  \n",
       "\n",
       "[7561 rows x 500 columns]"
      ]
     },
     "execution_count": 23,
     "metadata": {},
     "output_type": "execute_result"
    }
   ],
   "source": [
    "# Configuring a Monte Carlo simulation to forecast 30 years cumulative returns\n",
    "MC_30years= MCSimulation(\n",
    "    portfolio_data = df_stock_data,\n",
    "    weights = [.40,.60],\n",
    "    num_simulation = 500,\n",
    "    num_trading_days = 252*30\n",
    ")\n",
    "\n",
    "MC_30years.calc_cumulative_return()"
   ]
  },
  {
   "cell_type": "code",
   "execution_count": null,
   "metadata": {},
   "outputs": [],
   "source": []
  },
  {
   "cell_type": "code",
   "execution_count": null,
   "metadata": {},
   "outputs": [],
   "source": [
    "# Running a Monte Carlo simulation to forecast 30 years cumulative returns\n",
    "# SEE ABOVE"
   ]
  },
  {
   "cell_type": "code",
   "execution_count": 24,
   "metadata": {},
   "outputs": [
    {
     "data": {
      "image/png": "[encoded data removed]",
      "text/plain": [
       "<Figure size 432x288 with 1 Axes>"
      ]
     },
     "metadata": {
      "needs_background": "light"
     },
     "output_type": "display_data"
    }
   ],
   "source": [
    "# Plot simulation outcomes\n",
    "line_plot = MC_30years.plot_simulation()"
   ]
  },
  {
   "cell_type": "code",
   "execution_count": 25,
   "metadata": {},
   "outputs": [
    {
     "data": {
      "image/png": "[encoded data removed]",
      "text/plain": [
       "<Figure size 432x288 with 1 Axes>"
      ]
     },
     "metadata": {
      "needs_background": "light"
     },
     "output_type": "display_data"
    }
   ],
   "source": [
    "# Plot probability distribution and confidence intervals\n",
    "dist_plot = MC_30years.plot_distribution()"
   ]
  },
  {
   "cell_type": "markdown",
   "metadata": {},
   "source": [
    "### Retirement Analysis"
   ]
  },
  {
   "cell_type": "code",
   "execution_count": 27,
   "metadata": {},
   "outputs": [
    {
     "name": "stdout",
     "output_type": "stream",
     "text": [
      "count           500.000000\n",
      "mean            139.517238\n",
      "std              65.292782\n",
      "min              32.504829\n",
      "25%              93.156106\n",
      "50%             128.518079\n",
      "75%             170.468586\n",
      "max             460.641213\n",
      "95% CI Lower     49.988939\n",
      "95% CI Upper    315.004290\n",
      "Name: 7560, dtype: float64\n"
     ]
    }
   ],
   "source": [
    "# Fetch summary statistics from the Monte Carlo simulation results\n",
    "sum_stat = MC_30years.summarize_cumulative_return()\n",
    "\n",
    "# Print summary statistics\n",
    "print(sum_stat)"
   ]
  },
  {
   "cell_type": "markdown",
   "metadata": {},
   "source": [
    "### Calculate the expected portfolio return at the `95%` lower and upper confidence intervals based on a `$20,000` initial investment."
   ]
  },
  {
   "cell_type": "code",
   "execution_count": 29,
   "metadata": {},
   "outputs": [
    {
     "name": "stdout",
     "output_type": "stream",
     "text": [
      "There is a 95% chance that an initial investment of $20000 in the portfolio over the next 30 years will end within in the range of $999778.77 and $6300085.79\n"
     ]
    }
   ],
   "source": [
    "# Set initial investment\n",
    "initial_investment = 20000\n",
    "\n",
    "# Use the lower and upper `95%` confidence intervals to calculate the range of the possible outcomes of our $20,000\n",
    "ci_lower = round(sum_stat[8]*initial_investment,2)\n",
    "ci_upper = round(sum_stat[9]*initial_investment,2)\n",
    "\n",
    "# Print results\n",
    "# WHY MY NUMBERS LOOK SO FUNNY? CAN YOU PLEASE CHECK AND LET ME KNOW?\n",
    "print(f\"There is a 95% chance that an initial investment of ${initial_investment} in the portfolio\"\n",
    "      f\" over the next 30 years will end within in the range of\"\n",
    "      f\" ${ci_lower} and ${ci_upper}\")"
   ]
  },
  {
   "cell_type": "markdown",
   "metadata": {},
   "source": [
    "### Calculate the expected portfolio return at the `95%` lower and upper confidence intervals based on a `50%` increase in the initial investment."
   ]
  },
  {
   "cell_type": "code",
   "execution_count": 31,
   "metadata": {},
   "outputs": [
    {
     "name": "stdout",
     "output_type": "stream",
     "text": [
      "There is a 95% chance that an initial investment of $30000.0 in the portfolio over the next 30 years will end within in the range of $1499668.16 and $9450128.69\n"
     ]
    }
   ],
   "source": [
    "# Set initial investment\n",
    "initial_investment1 = 20000 * 1.5\n",
    "\n",
    "# Use the lower and upper `95%` confidence intervals to calculate the range of the possible outcomes of our $30,000\n",
    "ci_lower1 = round(sum_stat[8]*initial_investment1,2)\n",
    "ci_upper1 = round(sum_stat[9]*initial_investment1,2)\n",
    "\n",
    "# Print results\n",
    "print(f\"There is a 95% chance that an initial investment of ${initial_investment} in the portfolio\"\n",
    "      f\" over the next 30 years will end within in the range of\"\n",
    "      f\" ${ci_lower1} and ${ci_upper1}\")"
   ]
  },
  {
   "cell_type": "markdown",
   "metadata": {},
   "source": [
    "## Optional Challenge - Early Retirement\n",
    "\n",
    "\n",
    "### Five Years Retirement Option"
   ]
  },
  {
   "cell_type": "code",
   "execution_count": null,
   "metadata": {},
   "outputs": [],
   "source": [
    "# Configuring a Monte Carlo simulation to forecast 5 years cumulative returns\n",
    "# YOUR CODE HERE!"
   ]
  },
  {
   "cell_type": "code",
   "execution_count": null,
   "metadata": {},
   "outputs": [],
   "source": [
    "# Running a Monte Carlo simulation to forecast 5 years cumulative returns\n",
    "# YOUR CODE HERE!"
   ]
  },
  {
   "cell_type": "code",
   "execution_count": null,
   "metadata": {},
   "outputs": [],
   "source": [
    "# Plot simulation outcomes\n",
    "# YOUR CODE HERE!"
   ]
  },
  {
   "cell_type": "code",
   "execution_count": null,
   "metadata": {},
   "outputs": [],
   "source": [
    "# Plot probability distribution and confidence intervals\n",
    "# YOUR CODE HERE!"
   ]
  },
  {
   "cell_type": "code",
   "execution_count": null,
   "metadata": {},
   "outputs": [],
   "source": [
    "# Fetch summary statistics from the Monte Carlo simulation results\n",
    "# YOUR CODE HERE!\n",
    "\n",
    "# Print summary statistics\n",
    "# YOUR CODE HERE!"
   ]
  },
  {
   "cell_type": "code",
   "execution_count": null,
   "metadata": {},
   "outputs": [],
   "source": [
    "# Set initial investment\n",
    "# YOUR CODE HERE!\n",
    "\n",
    "# Use the lower and upper `95%` confidence intervals to calculate the range of the possible outcomes of our $60,000\n",
    "# YOUR CODE HERE!\n",
    "\n",
    "# Print results\n",
    "print(f\"There is a 95% chance that an initial investment of ${initial_investment} in the portfolio\"\n",
    "      f\" over the next 5 years will end within in the range of\"\n",
    "      f\" ${ci_lower_five} and ${ci_upper_five}\")"
   ]
  },
  {
   "cell_type": "markdown",
   "metadata": {},
   "source": [
    "### Ten Years Retirement Option"
   ]
  },
  {
   "cell_type": "code",
   "execution_count": null,
   "metadata": {},
   "outputs": [],
   "source": [
    "# Configuring a Monte Carlo simulation to forecast 10 years cumulative returns\n",
    "# YOUR CODE HERE!"
   ]
  },
  {
   "cell_type": "code",
   "execution_count": null,
   "metadata": {},
   "outputs": [],
   "source": [
    "# Running a Monte Carlo simulation to forecast 10 years cumulative returns\n",
    "# YOUR CODE HERE!"
   ]
  },
  {
   "cell_type": "code",
   "execution_count": null,
   "metadata": {},
   "outputs": [],
   "source": [
    "# Plot simulation outcomes\n",
    "# YOUR CODE HERE!"
   ]
  },
  {
   "cell_type": "code",
   "execution_count": null,
   "metadata": {},
   "outputs": [],
   "source": [
    "# Plot probability distribution and confidence intervals\n",
    "# YOUR CODE HERE!"
   ]
  },
  {
   "cell_type": "code",
   "execution_count": null,
   "metadata": {},
   "outputs": [],
   "source": [
    "# Fetch summary statistics from the Monte Carlo simulation results\n",
    "# YOUR CODE HERE!\n",
    "\n",
    "# Print summary statistics\n",
    "# YOUR CODE HERE!"
   ]
  },
  {
   "cell_type": "code",
   "execution_count": null,
   "metadata": {},
   "outputs": [],
   "source": [
    "# Set initial investment\n",
    "# YOUR CODE HERE!\n",
    "\n",
    "# Use the lower and upper `95%` confidence intervals to calculate the range of the possible outcomes of our $60,000\n",
    "# YOUR CODE HERE!\n",
    "\n",
    "# Print results\n",
    "print(f\"There is a 95% chance that an initial investment of ${initial_investment} in the portfolio\"\n",
    "      f\" over the next 10 years will end within in the range of\"\n",
    "      f\" ${ci_lower_ten} and ${ci_upper_ten}\")"
   ]
  },
  {
   "cell_type": "code",
   "execution_count": null,
   "metadata": {},
   "outputs": [],
   "source": []
  }
 ],
 "metadata": {
  "kernelspec": {
   "display_name": "Python 3",
   "language": "python",
   "name": "python3"
  },
  "language_info": {
   "codemirror_mode": {
    "name": "ipython",
    "version": 3
   },
   "file_extension": ".py",
   "mimetype": "text/x-python",
   "name": "python",
   "nbconvert_exporter": "python",
   "pygments_lexer": "ipython3",
   "version": "3.7.10"
  },
  "nteract": {
   "version": "0.28.0"
  }
 },
 "nbformat": 4,
 "nbformat_minor": 4
}
